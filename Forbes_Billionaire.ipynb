{
 "cells": [
  {
   "cell_type": "markdown",
   "metadata": {},
   "source": [
    "## In Class Practice with Pandas"
   ]
  },
  {
   "cell_type": "markdown",
   "metadata": {},
   "source": [
    "**Data Dictionary**\n",
    "\n",
    "* Name - Name of the person\n",
    "* Net worth in billions - Net worth of the person in billions\n",
    "* Country - Country where the person is from\n",
    "* Source - Source of the income\n",
    "* Rank - Rank of the person in the Billionaires list\n",
    "* Age - Age of the person\n",
    "* Industry - Industry to which the person is related to"
   ]
  },
  {
   "cell_type": "markdown",
   "metadata": {},
   "source": [
    "### Importing Pandas Library"
   ]
  },
  {
   "cell_type": "code",
   "execution_count": 1,
   "metadata": {
    "ExecuteTime": {
     "end_time": "2021-06-10T05:17:01.435413Z",
     "start_time": "2021-06-10T05:17:01.412953Z"
    }
   },
   "outputs": [],
   "source": [
    "import pandas as pd"
   ]
  },
  {
   "cell_type": "markdown",
   "metadata": {},
   "source": [
    "### Loading the dataset in a pandas dataframe"
   ]
  },
  {
   "cell_type": "code",
   "execution_count": 46,
   "metadata": {
    "ExecuteTime": {
     "end_time": "2021-06-10T05:17:01.964806Z",
     "start_time": "2021-06-10T05:17:01.941966Z"
    }
   },
   "outputs": [],
   "source": [
    "df = pd.read_csv('Forbes-list-2020.csv')"
   ]
  },
  {
   "cell_type": "markdown",
   "metadata": {},
   "source": [
    "### Print top 5 rows "
   ]
  },
  {
   "cell_type": "code",
   "execution_count": 4,
   "metadata": {
    "ExecuteTime": {
     "end_time": "2021-06-10T05:17:02.339539Z",
     "start_time": "2021-06-10T05:17:02.307528Z"
    }
   },
   "outputs": [
    {
     "data": {
      "text/html": [
       "<div>\n",
       "<style scoped>\n",
       "    .dataframe tbody tr th:only-of-type {\n",
       "        vertical-align: middle;\n",
       "    }\n",
       "\n",
       "    .dataframe tbody tr th {\n",
       "        vertical-align: top;\n",
       "    }\n",
       "\n",
       "    .dataframe thead th {\n",
       "        text-align: right;\n",
       "    }\n",
       "</style>\n",
       "<table border=\"1\" class=\"dataframe\">\n",
       "  <thead>\n",
       "    <tr style=\"text-align: right;\">\n",
       "      <th></th>\n",
       "      <th>Name</th>\n",
       "      <th>NetWorth in billions</th>\n",
       "      <th>Country</th>\n",
       "      <th>Source</th>\n",
       "      <th>Rank</th>\n",
       "      <th>Age</th>\n",
       "      <th>Industry</th>\n",
       "    </tr>\n",
       "  </thead>\n",
       "  <tbody>\n",
       "    <tr>\n",
       "      <th>0</th>\n",
       "      <td>Jeff Bezos</td>\n",
       "      <td>177.0</td>\n",
       "      <td>United States</td>\n",
       "      <td>Amazon</td>\n",
       "      <td>1</td>\n",
       "      <td>57</td>\n",
       "      <td>Technology</td>\n",
       "    </tr>\n",
       "    <tr>\n",
       "      <th>1</th>\n",
       "      <td>Elon Musk</td>\n",
       "      <td>151.0</td>\n",
       "      <td>United States</td>\n",
       "      <td>Tesla, SpaceX</td>\n",
       "      <td>2</td>\n",
       "      <td>49</td>\n",
       "      <td>Automotive</td>\n",
       "    </tr>\n",
       "    <tr>\n",
       "      <th>2</th>\n",
       "      <td>Bernard Arnault &amp; family</td>\n",
       "      <td>150.0</td>\n",
       "      <td>France</td>\n",
       "      <td>LVMH</td>\n",
       "      <td>3</td>\n",
       "      <td>72</td>\n",
       "      <td>Fashion &amp; Retail</td>\n",
       "    </tr>\n",
       "    <tr>\n",
       "      <th>3</th>\n",
       "      <td>Bill Gates</td>\n",
       "      <td>124.0</td>\n",
       "      <td>United States</td>\n",
       "      <td>Microsoft</td>\n",
       "      <td>4</td>\n",
       "      <td>65</td>\n",
       "      <td>Technology</td>\n",
       "    </tr>\n",
       "    <tr>\n",
       "      <th>4</th>\n",
       "      <td>Mark Zuckerberg</td>\n",
       "      <td>97.0</td>\n",
       "      <td>United States</td>\n",
       "      <td>Facebook</td>\n",
       "      <td>5</td>\n",
       "      <td>36</td>\n",
       "      <td>Technology</td>\n",
       "    </tr>\n",
       "  </tbody>\n",
       "</table>\n",
       "</div>"
      ],
      "text/plain": [
       "                       Name  NetWorth in billions        Country  \\\n",
       "0                Jeff Bezos                 177.0  United States   \n",
       "1                 Elon Musk                 151.0  United States   \n",
       "2  Bernard Arnault & family                 150.0         France   \n",
       "3                Bill Gates                 124.0  United States   \n",
       "4           Mark Zuckerberg                  97.0  United States   \n",
       "\n",
       "          Source  Rank  Age          Industry  \n",
       "0         Amazon     1   57        Technology  \n",
       "1  Tesla, SpaceX     2   49        Automotive  \n",
       "2           LVMH     3   72  Fashion & Retail  \n",
       "3      Microsoft     4   65        Technology  \n",
       "4       Facebook     5   36        Technology  "
      ]
     },
     "execution_count": 4,
     "metadata": {},
     "output_type": "execute_result"
    }
   ],
   "source": [
    "df.head()"
   ]
  },
  {
   "cell_type": "markdown",
   "metadata": {},
   "source": [
    "#### <span style=\"color:crimson\">Q1. Whose name is assigned to the 0th index in the dataframe</span>\n",
    "A/ Jeff Bezos"
   ]
  },
  {
   "cell_type": "markdown",
   "metadata": {},
   "source": [
    "### Print the dimensions of data"
   ]
  },
  {
   "cell_type": "code",
   "execution_count": 5,
   "metadata": {
    "ExecuteTime": {
     "end_time": "2021-06-10T05:17:02.647182Z",
     "start_time": "2021-06-10T05:17:02.627530Z"
    }
   },
   "outputs": [
    {
     "data": {
      "text/plain": [
       "(2755, 7)"
      ]
     },
     "execution_count": 5,
     "metadata": {},
     "output_type": "execute_result"
    }
   ],
   "source": [
    "df.shape"
   ]
  },
  {
   "cell_type": "markdown",
   "metadata": {},
   "source": [
    "#### <span style=\"color:crimson\">Q2. How many records do you have in this dataset?</span>\n",
    "A/ 2755 records"
   ]
  },
  {
   "cell_type": "markdown",
   "metadata": {},
   "source": [
    "### Datatypes of all the fields in the data"
   ]
  },
  {
   "cell_type": "code",
   "execution_count": 16,
   "metadata": {
    "ExecuteTime": {
     "end_time": "2021-06-10T05:17:03.018995Z",
     "start_time": "2021-06-10T05:17:02.982351Z"
    }
   },
   "outputs": [
    {
     "data": {
      "text/plain": [
       "Name                     object\n",
       "NetWorth in billions    float64\n",
       "Country                  object\n",
       "Source                   object\n",
       "Rank                      int64\n",
       "Age                       int64\n",
       "Industry                 object\n",
       "dtype: object"
      ]
     },
     "execution_count": 16,
     "metadata": {},
     "output_type": "execute_result"
    }
   ],
   "source": [
    "df.dtypes\n",
    "#df.info()"
   ]
  },
  {
   "cell_type": "markdown",
   "metadata": {},
   "source": [
    "#### <span style=\"color:crimson\">Q3. What is the data type of the variable Source</span>\n",
    "A/ object"
   ]
  },
  {
   "cell_type": "markdown",
   "metadata": {},
   "source": [
    "### Checking for missing values"
   ]
  },
  {
   "cell_type": "code",
   "execution_count": 21,
   "metadata": {
    "ExecuteTime": {
     "end_time": "2021-06-10T05:17:03.813480Z",
     "start_time": "2021-06-10T05:17:03.793781Z"
    }
   },
   "outputs": [
    {
     "name": "stdout",
     "output_type": "stream",
     "text": [
      "Name                    0\n",
      "NetWorth in billions    0\n",
      "Country                 0\n",
      "Source                  0\n",
      "Rank                    0\n",
      "Age                     0\n",
      "Industry                0\n",
      "dtype: int64\n",
      "<class 'pandas.core.frame.DataFrame'>\n",
      "RangeIndex: 2755 entries, 0 to 2754\n",
      "Data columns (total 7 columns):\n",
      " #   Column                Non-Null Count  Dtype  \n",
      "---  ------                --------------  -----  \n",
      " 0   Name                  2755 non-null   object \n",
      " 1   NetWorth in billions  2755 non-null   float64\n",
      " 2   Country               2755 non-null   object \n",
      " 3   Source                2755 non-null   object \n",
      " 4   Rank                  2755 non-null   int64  \n",
      " 5   Age                   2755 non-null   int64  \n",
      " 6   Industry              2755 non-null   object \n",
      "dtypes: float64(1), int64(2), object(4)\n",
      "memory usage: 150.8+ KB\n"
     ]
    }
   ],
   "source": [
    "print(df.isnull().sum())\n",
    "df.info()"
   ]
  },
  {
   "cell_type": "markdown",
   "metadata": {},
   "source": [
    "#### <span style=\"color:crimson\">Q4. How many missing values exists in the industry feature</span>\n",
    "A/ there are not missing values"
   ]
  },
  {
   "cell_type": "markdown",
   "metadata": {},
   "source": [
    "### Print the basic stats for this dataset"
   ]
  },
  {
   "cell_type": "code",
   "execution_count": 24,
   "metadata": {},
   "outputs": [
    {
     "data": {
      "text/html": [
       "<div>\n",
       "<style scoped>\n",
       "    .dataframe tbody tr th:only-of-type {\n",
       "        vertical-align: middle;\n",
       "    }\n",
       "\n",
       "    .dataframe tbody tr th {\n",
       "        vertical-align: top;\n",
       "    }\n",
       "\n",
       "    .dataframe thead th {\n",
       "        text-align: right;\n",
       "    }\n",
       "</style>\n",
       "<table border=\"1\" class=\"dataframe\">\n",
       "  <thead>\n",
       "    <tr style=\"text-align: right;\">\n",
       "      <th></th>\n",
       "      <th>NetWorth in billions</th>\n",
       "      <th>Rank</th>\n",
       "      <th>Age</th>\n",
       "    </tr>\n",
       "  </thead>\n",
       "  <tbody>\n",
       "    <tr>\n",
       "      <th>count</th>\n",
       "      <td>2755.000000</td>\n",
       "      <td>2755.000000</td>\n",
       "      <td>2755.000000</td>\n",
       "    </tr>\n",
       "    <tr>\n",
       "      <th>mean</th>\n",
       "      <td>4.749220</td>\n",
       "      <td>1345.663521</td>\n",
       "      <td>63.014519</td>\n",
       "    </tr>\n",
       "    <tr>\n",
       "      <th>std</th>\n",
       "      <td>9.615358</td>\n",
       "      <td>772.669811</td>\n",
       "      <td>13.259017</td>\n",
       "    </tr>\n",
       "    <tr>\n",
       "      <th>min</th>\n",
       "      <td>1.000000</td>\n",
       "      <td>1.000000</td>\n",
       "      <td>18.000000</td>\n",
       "    </tr>\n",
       "    <tr>\n",
       "      <th>25%</th>\n",
       "      <td>1.500000</td>\n",
       "      <td>680.000000</td>\n",
       "      <td>54.000000</td>\n",
       "    </tr>\n",
       "    <tr>\n",
       "      <th>50%</th>\n",
       "      <td>2.300000</td>\n",
       "      <td>1362.000000</td>\n",
       "      <td>62.000000</td>\n",
       "    </tr>\n",
       "    <tr>\n",
       "      <th>75%</th>\n",
       "      <td>4.200000</td>\n",
       "      <td>2035.000000</td>\n",
       "      <td>72.000000</td>\n",
       "    </tr>\n",
       "    <tr>\n",
       "      <th>max</th>\n",
       "      <td>177.000000</td>\n",
       "      <td>2674.000000</td>\n",
       "      <td>97.000000</td>\n",
       "    </tr>\n",
       "  </tbody>\n",
       "</table>\n",
       "</div>"
      ],
      "text/plain": [
       "       NetWorth in billions         Rank          Age\n",
       "count           2755.000000  2755.000000  2755.000000\n",
       "mean               4.749220  1345.663521    63.014519\n",
       "std                9.615358   772.669811    13.259017\n",
       "min                1.000000     1.000000    18.000000\n",
       "25%                1.500000   680.000000    54.000000\n",
       "50%                2.300000  1362.000000    62.000000\n",
       "75%                4.200000  2035.000000    72.000000\n",
       "max              177.000000  2674.000000    97.000000"
      ]
     },
     "execution_count": 24,
     "metadata": {},
     "output_type": "execute_result"
    }
   ],
   "source": [
    "df.describe()"
   ]
  },
  {
   "cell_type": "markdown",
   "metadata": {},
   "source": [
    "#### <span style=\"color:crimson\">Q5. Who is the yongest billionare in this list?</span>\n",
    "A/ He is 18 years old, Kevin David Lehmann\t"
   ]
  },
  {
   "cell_type": "markdown",
   "metadata": {},
   "source": [
    "### Sort the dataset  by Age (ascending) and reset the index"
   ]
  },
  {
   "cell_type": "code",
   "execution_count": 47,
   "metadata": {},
   "outputs": [
    {
     "data": {
      "text/html": [
       "<div>\n",
       "<style scoped>\n",
       "    .dataframe tbody tr th:only-of-type {\n",
       "        vertical-align: middle;\n",
       "    }\n",
       "\n",
       "    .dataframe tbody tr th {\n",
       "        vertical-align: top;\n",
       "    }\n",
       "\n",
       "    .dataframe thead th {\n",
       "        text-align: right;\n",
       "    }\n",
       "</style>\n",
       "<table border=\"1\" class=\"dataframe\">\n",
       "  <thead>\n",
       "    <tr style=\"text-align: right;\">\n",
       "      <th></th>\n",
       "      <th>Name</th>\n",
       "      <th>NetWorth in billions</th>\n",
       "      <th>Country</th>\n",
       "      <th>Source</th>\n",
       "      <th>Rank</th>\n",
       "      <th>Age</th>\n",
       "      <th>Industry</th>\n",
       "    </tr>\n",
       "  </thead>\n",
       "  <tbody>\n",
       "    <tr>\n",
       "      <th>0</th>\n",
       "      <td>Jeff Bezos</td>\n",
       "      <td>177.0</td>\n",
       "      <td>United States</td>\n",
       "      <td>Amazon</td>\n",
       "      <td>1</td>\n",
       "      <td>57</td>\n",
       "      <td>Technology</td>\n",
       "    </tr>\n",
       "    <tr>\n",
       "      <th>1</th>\n",
       "      <td>Elon Musk</td>\n",
       "      <td>151.0</td>\n",
       "      <td>United States</td>\n",
       "      <td>Tesla, SpaceX</td>\n",
       "      <td>2</td>\n",
       "      <td>49</td>\n",
       "      <td>Automotive</td>\n",
       "    </tr>\n",
       "    <tr>\n",
       "      <th>2</th>\n",
       "      <td>Bernard Arnault &amp; family</td>\n",
       "      <td>150.0</td>\n",
       "      <td>France</td>\n",
       "      <td>LVMH</td>\n",
       "      <td>3</td>\n",
       "      <td>72</td>\n",
       "      <td>Fashion &amp; Retail</td>\n",
       "    </tr>\n",
       "    <tr>\n",
       "      <th>3</th>\n",
       "      <td>Bill Gates</td>\n",
       "      <td>124.0</td>\n",
       "      <td>United States</td>\n",
       "      <td>Microsoft</td>\n",
       "      <td>4</td>\n",
       "      <td>65</td>\n",
       "      <td>Technology</td>\n",
       "    </tr>\n",
       "    <tr>\n",
       "      <th>4</th>\n",
       "      <td>Mark Zuckerberg</td>\n",
       "      <td>97.0</td>\n",
       "      <td>United States</td>\n",
       "      <td>Facebook</td>\n",
       "      <td>5</td>\n",
       "      <td>36</td>\n",
       "      <td>Technology</td>\n",
       "    </tr>\n",
       "    <tr>\n",
       "      <th>...</th>\n",
       "      <td>...</td>\n",
       "      <td>...</td>\n",
       "      <td>...</td>\n",
       "      <td>...</td>\n",
       "      <td>...</td>\n",
       "      <td>...</td>\n",
       "      <td>...</td>\n",
       "    </tr>\n",
       "    <tr>\n",
       "      <th>2750</th>\n",
       "      <td>Daniel Yong Zhang</td>\n",
       "      <td>1.0</td>\n",
       "      <td>China</td>\n",
       "      <td>e-commerce</td>\n",
       "      <td>2674</td>\n",
       "      <td>49</td>\n",
       "      <td>Technology</td>\n",
       "    </tr>\n",
       "    <tr>\n",
       "      <th>2751</th>\n",
       "      <td>Zhang Yuqiang</td>\n",
       "      <td>1.0</td>\n",
       "      <td>China</td>\n",
       "      <td>Fiberglass</td>\n",
       "      <td>2674</td>\n",
       "      <td>65</td>\n",
       "      <td>Manufacturing</td>\n",
       "    </tr>\n",
       "    <tr>\n",
       "      <th>2752</th>\n",
       "      <td>Zhao Meiguang</td>\n",
       "      <td>1.0</td>\n",
       "      <td>China</td>\n",
       "      <td>gold mining</td>\n",
       "      <td>2674</td>\n",
       "      <td>58</td>\n",
       "      <td>Metals &amp; Mining</td>\n",
       "    </tr>\n",
       "    <tr>\n",
       "      <th>2753</th>\n",
       "      <td>Zhong Naixiong</td>\n",
       "      <td>1.0</td>\n",
       "      <td>China</td>\n",
       "      <td>conglomerate</td>\n",
       "      <td>2674</td>\n",
       "      <td>58</td>\n",
       "      <td>Diversified</td>\n",
       "    </tr>\n",
       "    <tr>\n",
       "      <th>2754</th>\n",
       "      <td>Zhou Wei family</td>\n",
       "      <td>1.0</td>\n",
       "      <td>China</td>\n",
       "      <td>Software</td>\n",
       "      <td>2674</td>\n",
       "      <td>54</td>\n",
       "      <td>Technology</td>\n",
       "    </tr>\n",
       "  </tbody>\n",
       "</table>\n",
       "<p>2755 rows × 7 columns</p>\n",
       "</div>"
      ],
      "text/plain": [
       "                          Name  NetWorth in billions        Country  \\\n",
       "0                   Jeff Bezos                 177.0  United States   \n",
       "1                    Elon Musk                 151.0  United States   \n",
       "2     Bernard Arnault & family                 150.0         France   \n",
       "3                   Bill Gates                 124.0  United States   \n",
       "4              Mark Zuckerberg                  97.0  United States   \n",
       "...                        ...                   ...            ...   \n",
       "2750         Daniel Yong Zhang                   1.0          China   \n",
       "2751             Zhang Yuqiang                   1.0          China   \n",
       "2752             Zhao Meiguang                   1.0          China   \n",
       "2753            Zhong Naixiong                   1.0          China   \n",
       "2754           Zhou Wei family                   1.0          China   \n",
       "\n",
       "             Source  Rank  Age          Industry  \n",
       "0            Amazon     1   57        Technology  \n",
       "1     Tesla, SpaceX     2   49        Automotive  \n",
       "2              LVMH     3   72  Fashion & Retail  \n",
       "3         Microsoft     4   65        Technology  \n",
       "4          Facebook     5   36        Technology  \n",
       "...             ...   ...  ...               ...  \n",
       "2750     e-commerce  2674   49        Technology  \n",
       "2751     Fiberglass  2674   65     Manufacturing  \n",
       "2752    gold mining  2674   58   Metals & Mining  \n",
       "2753   conglomerate  2674   58       Diversified  \n",
       "2754       Software  2674   54        Technology  \n",
       "\n",
       "[2755 rows x 7 columns]"
      ]
     },
     "execution_count": 47,
     "metadata": {},
     "output_type": "execute_result"
    }
   ],
   "source": [
    "df.sort_values(\"Age\", ascending=True)\n",
    "df.reset_index(drop=True)"
   ]
  },
  {
   "cell_type": "code",
   "execution_count": 48,
   "metadata": {},
   "outputs": [
    {
     "data": {
      "text/plain": [
       "'real estate'"
      ]
     },
     "execution_count": 48,
     "metadata": {},
     "output_type": "execute_result"
    }
   ],
   "source": [
    "#run\n",
    "df.iloc[1200,3]"
   ]
  },
  {
   "cell_type": "markdown",
   "metadata": {},
   "source": [
    "    "
   ]
  },
  {
   "cell_type": "markdown",
   "metadata": {},
   "source": [
    "#### <span style=\"color:crimson\">Q6. What is the output of `df.iloc[1200,3]`?</span>\n",
    "A/ real state"
   ]
  },
  {
   "cell_type": "markdown",
   "metadata": {},
   "source": [
    "    "
   ]
  },
  {
   "cell_type": "markdown",
   "metadata": {},
   "source": [
    "### Create a new column `Year_of_birth`\n",
    "Note: The dataset is from the year 2020. The age of those Billionaires is as of 2020."
   ]
  },
  {
   "cell_type": "code",
   "execution_count": 31,
   "metadata": {},
   "outputs": [],
   "source": [
    "# create a new column 'Year_of_birth'\n",
    "df[\"Year_of_birth\"] = 2020 - df[\"Age\"]"
   ]
  },
  {
   "cell_type": "code",
   "execution_count": 32,
   "metadata": {},
   "outputs": [
    {
     "data": {
      "text/html": [
       "<div>\n",
       "<style scoped>\n",
       "    .dataframe tbody tr th:only-of-type {\n",
       "        vertical-align: middle;\n",
       "    }\n",
       "\n",
       "    .dataframe tbody tr th {\n",
       "        vertical-align: top;\n",
       "    }\n",
       "\n",
       "    .dataframe thead th {\n",
       "        text-align: right;\n",
       "    }\n",
       "</style>\n",
       "<table border=\"1\" class=\"dataframe\">\n",
       "  <thead>\n",
       "    <tr style=\"text-align: right;\">\n",
       "      <th></th>\n",
       "      <th>Name</th>\n",
       "      <th>NetWorth in billions</th>\n",
       "      <th>Country</th>\n",
       "      <th>Source</th>\n",
       "      <th>Rank</th>\n",
       "      <th>Age</th>\n",
       "      <th>Industry</th>\n",
       "      <th>Year_of_birth</th>\n",
       "    </tr>\n",
       "  </thead>\n",
       "  <tbody>\n",
       "    <tr>\n",
       "      <th>940</th>\n",
       "      <td>Kevin David Lehmann</td>\n",
       "      <td>3.3</td>\n",
       "      <td>Germany</td>\n",
       "      <td>drugstores</td>\n",
       "      <td>925</td>\n",
       "      <td>18</td>\n",
       "      <td>Fashion &amp; Retail</td>\n",
       "      <td>2002</td>\n",
       "    </tr>\n",
       "    <tr>\n",
       "      <th>2143</th>\n",
       "      <td>Alexandra Andresen</td>\n",
       "      <td>1.4</td>\n",
       "      <td>Norway</td>\n",
       "      <td>investments</td>\n",
       "      <td>2141</td>\n",
       "      <td>24</td>\n",
       "      <td>Diversified</td>\n",
       "      <td>1996</td>\n",
       "    </tr>\n",
       "    <tr>\n",
       "      <th>2122</th>\n",
       "      <td>Wang Zelong</td>\n",
       "      <td>1.5</td>\n",
       "      <td>China</td>\n",
       "      <td>chemicals</td>\n",
       "      <td>2035</td>\n",
       "      <td>24</td>\n",
       "      <td>Metals &amp; Mining</td>\n",
       "      <td>1996</td>\n",
       "    </tr>\n",
       "    <tr>\n",
       "      <th>2144</th>\n",
       "      <td>Katharina Andresen</td>\n",
       "      <td>1.4</td>\n",
       "      <td>Norway</td>\n",
       "      <td>investments</td>\n",
       "      <td>2141</td>\n",
       "      <td>25</td>\n",
       "      <td>Diversified</td>\n",
       "      <td>1995</td>\n",
       "    </tr>\n",
       "    <tr>\n",
       "      <th>1338</th>\n",
       "      <td>Austin Russell</td>\n",
       "      <td>2.4</td>\n",
       "      <td>United States</td>\n",
       "      <td>Unknown</td>\n",
       "      <td>1299</td>\n",
       "      <td>26</td>\n",
       "      <td>Automotive</td>\n",
       "      <td>1994</td>\n",
       "    </tr>\n",
       "  </tbody>\n",
       "</table>\n",
       "</div>"
      ],
      "text/plain": [
       "                     Name  NetWorth in billions        Country       Source  \\\n",
       "940   Kevin David Lehmann                   3.3        Germany   drugstores   \n",
       "2143   Alexandra Andresen                   1.4         Norway  investments   \n",
       "2122          Wang Zelong                   1.5          China    chemicals   \n",
       "2144   Katharina Andresen                   1.4         Norway  investments   \n",
       "1338       Austin Russell                   2.4  United States      Unknown   \n",
       "\n",
       "      Rank  Age          Industry  Year_of_birth  \n",
       "940    925   18  Fashion & Retail           2002  \n",
       "2143  2141   24       Diversified           1996  \n",
       "2122  2035   24   Metals & Mining           1996  \n",
       "2144  2141   25       Diversified           1995  \n",
       "1338  1299   26        Automotive           1994  "
      ]
     },
     "execution_count": 32,
     "metadata": {},
     "output_type": "execute_result"
    }
   ],
   "source": [
    "#view the data\n",
    "df.head()"
   ]
  },
  {
   "cell_type": "markdown",
   "metadata": {},
   "source": [
    "    "
   ]
  },
  {
   "cell_type": "markdown",
   "metadata": {},
   "source": [
    "### Select Billionaires born in 1996"
   ]
  },
  {
   "cell_type": "code",
   "execution_count": 42,
   "metadata": {},
   "outputs": [
    {
     "data": {
      "text/html": [
       "<div>\n",
       "<style scoped>\n",
       "    .dataframe tbody tr th:only-of-type {\n",
       "        vertical-align: middle;\n",
       "    }\n",
       "\n",
       "    .dataframe tbody tr th {\n",
       "        vertical-align: top;\n",
       "    }\n",
       "\n",
       "    .dataframe thead th {\n",
       "        text-align: right;\n",
       "    }\n",
       "</style>\n",
       "<table border=\"1\" class=\"dataframe\">\n",
       "  <thead>\n",
       "    <tr style=\"text-align: right;\">\n",
       "      <th></th>\n",
       "      <th>Name</th>\n",
       "      <th>NetWorth in billions</th>\n",
       "      <th>Country</th>\n",
       "      <th>Source</th>\n",
       "      <th>Rank</th>\n",
       "      <th>Age</th>\n",
       "      <th>Industry</th>\n",
       "      <th>Year_of_birth</th>\n",
       "    </tr>\n",
       "  </thead>\n",
       "  <tbody>\n",
       "    <tr>\n",
       "      <th>940</th>\n",
       "      <td></td>\n",
       "      <td></td>\n",
       "      <td></td>\n",
       "      <td></td>\n",
       "      <td></td>\n",
       "      <td></td>\n",
       "      <td></td>\n",
       "      <td></td>\n",
       "    </tr>\n",
       "    <tr>\n",
       "      <th>2143</th>\n",
       "      <td>Alexandra Andresen</td>\n",
       "      <td>1.4</td>\n",
       "      <td>Norway</td>\n",
       "      <td>investments</td>\n",
       "      <td>2141</td>\n",
       "      <td>24</td>\n",
       "      <td>Diversified</td>\n",
       "      <td>1996</td>\n",
       "    </tr>\n",
       "    <tr>\n",
       "      <th>2122</th>\n",
       "      <td>Wang Zelong</td>\n",
       "      <td>1.5</td>\n",
       "      <td>China</td>\n",
       "      <td>chemicals</td>\n",
       "      <td>2035</td>\n",
       "      <td>24</td>\n",
       "      <td>Metals &amp; Mining</td>\n",
       "      <td>1996</td>\n",
       "    </tr>\n",
       "    <tr>\n",
       "      <th>2144</th>\n",
       "      <td></td>\n",
       "      <td></td>\n",
       "      <td></td>\n",
       "      <td></td>\n",
       "      <td></td>\n",
       "      <td></td>\n",
       "      <td></td>\n",
       "      <td></td>\n",
       "    </tr>\n",
       "    <tr>\n",
       "      <th>1338</th>\n",
       "      <td></td>\n",
       "      <td></td>\n",
       "      <td></td>\n",
       "      <td></td>\n",
       "      <td></td>\n",
       "      <td></td>\n",
       "      <td></td>\n",
       "      <td></td>\n",
       "    </tr>\n",
       "    <tr>\n",
       "      <th>...</th>\n",
       "      <td>...</td>\n",
       "      <td>...</td>\n",
       "      <td>...</td>\n",
       "      <td>...</td>\n",
       "      <td>...</td>\n",
       "      <td>...</td>\n",
       "      <td>...</td>\n",
       "      <td>...</td>\n",
       "    </tr>\n",
       "    <tr>\n",
       "      <th>729</th>\n",
       "      <td></td>\n",
       "      <td></td>\n",
       "      <td></td>\n",
       "      <td></td>\n",
       "      <td></td>\n",
       "      <td></td>\n",
       "      <td></td>\n",
       "      <td></td>\n",
       "    </tr>\n",
       "    <tr>\n",
       "      <th>1579</th>\n",
       "      <td></td>\n",
       "      <td></td>\n",
       "      <td></td>\n",
       "      <td></td>\n",
       "      <td></td>\n",
       "      <td></td>\n",
       "      <td></td>\n",
       "      <td></td>\n",
       "    </tr>\n",
       "    <tr>\n",
       "      <th>1626</th>\n",
       "      <td></td>\n",
       "      <td></td>\n",
       "      <td></td>\n",
       "      <td></td>\n",
       "      <td></td>\n",
       "      <td></td>\n",
       "      <td></td>\n",
       "      <td></td>\n",
       "    </tr>\n",
       "    <tr>\n",
       "      <th>1559</th>\n",
       "      <td></td>\n",
       "      <td></td>\n",
       "      <td></td>\n",
       "      <td></td>\n",
       "      <td></td>\n",
       "      <td></td>\n",
       "      <td></td>\n",
       "      <td></td>\n",
       "    </tr>\n",
       "    <tr>\n",
       "      <th>170</th>\n",
       "      <td></td>\n",
       "      <td></td>\n",
       "      <td></td>\n",
       "      <td></td>\n",
       "      <td></td>\n",
       "      <td></td>\n",
       "      <td></td>\n",
       "      <td></td>\n",
       "    </tr>\n",
       "  </tbody>\n",
       "</table>\n",
       "<p>2755 rows × 8 columns</p>\n",
       "</div>"
      ],
      "text/plain": [
       "                    Name NetWorth in billions Country       Source  Rank Age  \\\n",
       "940                                                                            \n",
       "2143  Alexandra Andresen                  1.4  Norway  investments  2141  24   \n",
       "2122         Wang Zelong                  1.5   China    chemicals  2035  24   \n",
       "2144                                                                           \n",
       "1338                                                                           \n",
       "...                  ...                  ...     ...          ...   ...  ..   \n",
       "729                                                                            \n",
       "1579                                                                           \n",
       "1626                                                                           \n",
       "1559                                                                           \n",
       "170                                                                            \n",
       "\n",
       "             Industry Year_of_birth  \n",
       "940                                  \n",
       "2143      Diversified          1996  \n",
       "2122  Metals & Mining          1996  \n",
       "2144                                 \n",
       "1338                                 \n",
       "...               ...           ...  \n",
       "729                                  \n",
       "1579                                 \n",
       "1626                                 \n",
       "1559                                 \n",
       "170                                  \n",
       "\n",
       "[2755 rows x 8 columns]"
      ]
     },
     "execution_count": 42,
     "metadata": {},
     "output_type": "execute_result"
    }
   ],
   "source": [
    "# Using where condition\n",
    "df.where(df[\"Year_of_birth\"] == 1996, \"\")"
   ]
  },
  {
   "cell_type": "markdown",
   "metadata": {},
   "source": [
    "#### <span style=\"color:crimson\">Q7. How many Billionaires were born in 1996?</span>\n",
    "a/ 2 billionaires"
   ]
  },
  {
   "cell_type": "code",
   "execution_count": 45,
   "metadata": {},
   "outputs": [
    {
     "data": {
      "text/plain": [
       "Name                    2\n",
       "NetWorth in billions    2\n",
       "Country                 2\n",
       "Source                  2\n",
       "Rank                    2\n",
       "Age                     2\n",
       "Industry                2\n",
       "Year_of_birth           2\n",
       "dtype: int64"
      ]
     },
     "execution_count": 45,
     "metadata": {},
     "output_type": "execute_result"
    }
   ],
   "source": [
    "df.where(df[\"Year_of_birth\"] == 1996).count()"
   ]
  }
 ],
 "metadata": {
  "kernelspec": {
   "display_name": "Python 3 (ipykernel)",
   "language": "python",
   "name": "python3"
  },
  "language_info": {
   "codemirror_mode": {
    "name": "ipython",
    "version": 3
   },
   "file_extension": ".py",
   "mimetype": "text/x-python",
   "name": "python",
   "nbconvert_exporter": "python",
   "pygments_lexer": "ipython3",
   "version": "3.9.12"
  },
  "toc": {
   "base_numbering": 1,
   "nav_menu": {},
   "number_sections": true,
   "sideBar": true,
   "skip_h1_title": false,
   "title_cell": "Table of Contents",
   "title_sidebar": "Contents",
   "toc_cell": false,
   "toc_position": {},
   "toc_section_display": true,
   "toc_window_display": false
  }
 },
 "nbformat": 4,
 "nbformat_minor": 4
}
